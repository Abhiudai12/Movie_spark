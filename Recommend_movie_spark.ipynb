{
 "cells": [
  {
   "cell_type": "code",
   "execution_count": 23,
   "metadata": {},
   "outputs": [],
   "source": [
    "from pyspark.sql import SparkSession\n",
    "from pyspark.sql import SQLContext\n",
    "from pyspark.ml.recommendation import ALS\n",
    "from pyspark.ml.evaluation import RegressionEvaluator\n",
    "from pyspark.sql.functions import udf,col,when\n",
    "import numpy as np\n",
    "from pyspark.sql.functions import explode"
   ]
  },
  {
   "cell_type": "code",
   "execution_count": 24,
   "metadata": {},
   "outputs": [],
   "source": [
    "# Initialize Spark session\n",
    "spark = SparkSession.builder \\\n",
    "    .appName(\"MovieRecommendationSystem\") \\\n",
    "    .getOrCreate()\n",
    "\n",
    "# Load the data\n",
    "movies_path = \"D:/Downloads/movie_data/movies.csv\"\n",
    "ratings_path = \"D:/Downloads/movie_data/ratings.csv\""
   ]
  },
  {
   "cell_type": "code",
   "execution_count": 25,
   "metadata": {},
   "outputs": [],
   "source": [
    "movies_df = spark.read.csv(movies_path, header=True, inferSchema=True)\n",
    "ratings_df = spark.read.csv(ratings_path, header=True, inferSchema=True)"
   ]
  },
  {
   "cell_type": "code",
   "execution_count": 26,
   "metadata": {},
   "outputs": [
    {
     "name": "stdout",
     "output_type": "stream",
     "text": [
      "Movies Data:\n",
      "+-------+--------------------+--------------------+\n",
      "|movieId|               title|              genres|\n",
      "+-------+--------------------+--------------------+\n",
      "|      1|    Toy Story (1995)|Adventure|Animati...|\n",
      "|      2|      Jumanji (1995)|Adventure|Childre...|\n",
      "|      3|Grumpier Old Men ...|      Comedy|Romance|\n",
      "|      4|Waiting to Exhale...|Comedy|Drama|Romance|\n",
      "|      5|Father of the Bri...|              Comedy|\n",
      "+-------+--------------------+--------------------+\n",
      "only showing top 5 rows\n",
      "\n"
     ]
    }
   ],
   "source": [
    "print(\"Movies Data:\")\n",
    "movies_df.show(5)"
   ]
  },
  {
   "cell_type": "code",
   "execution_count": 27,
   "metadata": {},
   "outputs": [
    {
     "name": "stdout",
     "output_type": "stream",
     "text": [
      "Ratings Data:\n",
      "+------+-------+------+---------+\n",
      "|userId|movieId|rating|timestamp|\n",
      "+------+-------+------+---------+\n",
      "|     1|      1|   4.0|964982703|\n",
      "|     1|      3|   4.0|964981247|\n",
      "|     1|      6|   4.0|964982224|\n",
      "|     1|     47|   5.0|964983815|\n",
      "|     1|     50|   5.0|964982931|\n",
      "+------+-------+------+---------+\n",
      "only showing top 5 rows\n",
      "\n"
     ]
    }
   ],
   "source": [
    "print(\"Ratings Data:\")\n",
    "ratings_df.show(5)"
   ]
  },
  {
   "cell_type": "code",
   "execution_count": 28,
   "metadata": {},
   "outputs": [],
   "source": [
    "ratings_df = ratings_df.dropna()\n",
    "# Split data into training and test sets\n",
    "(train_data, test_data) = ratings_df.randomSplit([0.8, 0.2], seed=42)"
   ]
  },
  {
   "cell_type": "code",
   "execution_count": 29,
   "metadata": {},
   "outputs": [],
   "source": [
    "# Train ALS model\n",
    "als = ALS(\n",
    "    userCol=\"userId\",\n",
    "    itemCol=\"movieId\",\n",
    "    ratingCol=\"rating\",\n",
    "    coldStartStrategy=\"drop\",  # Handle cold-start problem\n",
    "    nonnegative=True,          # Ensure non-negative ratings\n",
    "    implicitPrefs=False        # Explicit feedback (ratings)\n",
    ")"
   ]
  },
  {
   "cell_type": "code",
   "execution_count": 30,
   "metadata": {},
   "outputs": [],
   "source": [
    "model = als.fit(train_data)"
   ]
  },
  {
   "cell_type": "code",
   "execution_count": 31,
   "metadata": {},
   "outputs": [
    {
     "name": "stdout",
     "output_type": "stream",
     "text": [
      "root\n",
      " |-- userId: integer (nullable = true)\n",
      " |-- movieId: integer (nullable = true)\n",
      " |-- rating: double (nullable = true)\n",
      " |-- timestamp: integer (nullable = true)\n",
      "\n"
     ]
    }
   ],
   "source": [
    "test_data.printSchema()"
   ]
  },
  {
   "cell_type": "code",
   "execution_count": 32,
   "metadata": {},
   "outputs": [
    {
     "name": "stdout",
     "output_type": "stream",
     "text": [
      "Root Mean Squared Error (RMSE): 0.8696335473187065\n"
     ]
    }
   ],
   "source": [
    "# Evaluate the model\n",
    "predictions = model.transform(test_data)\n",
    "predictions = predictions.withColumn(\n",
    "    \"prediction\",\n",
    "    when(col(\"prediction\") > 5, 5).when(col(\"prediction\") < 1, 1).otherwise(col(\"prediction\"))\n",
    ")\n",
    "evaluator = RegressionEvaluator(\n",
    "    metricName=\"rmse\",\n",
    "    labelCol=\"rating\",\n",
    "    predictionCol=\"prediction\"\n",
    ")\n",
    "rmse = evaluator.evaluate(predictions)\n",
    "print(f\"Root Mean Squared Error (RMSE): {rmse}\")"
   ]
  },
  {
   "cell_type": "code",
   "execution_count": 33,
   "metadata": {},
   "outputs": [
    {
     "name": "stdout",
     "output_type": "stream",
     "text": [
      "Top 5 movie recommendations for each user:\n",
      "+------+----------------------------------------------------------------------------------------------------+\n",
      "|userId|recommendations                                                                                     |\n",
      "+------+----------------------------------------------------------------------------------------------------+\n",
      "|1     |[{25771, 5.853434}, {3266, 5.727755}, {58301, 5.726351}, {8477, 5.6169987}, {132333, 5.569378}]     |\n",
      "|2     |[{6380, 4.9912367}, {131724, 4.8971786}, {184245, 4.861794}, {134796, 4.861794}, {117531, 4.861794}]|\n",
      "|3     |[{6835, 4.9096556}, {5746, 4.9096556}, {5181, 4.8525653}, {4518, 4.704792}, {2851, 4.700511}]       |\n",
      "|4     |[{306, 5.471559}, {25771, 5.2317896}, {8477, 5.0207634}, {1262, 4.988554}, {2300, 4.9771957}]       |\n",
      "|5     |[{25771, 5.3435073}, {8477, 5.2734475}, {3266, 5.1759133}, {58301, 5.126786}, {71899, 4.982245}]    |\n",
      "+------+----------------------------------------------------------------------------------------------------+\n",
      "only showing top 5 rows\n",
      "\n"
     ]
    }
   ],
   "source": [
    "user_recs = model.recommendForAllUsers(5)\n",
    "print(\"Top 5 movie recommendations for each user:\")\n",
    "user_recs.show(5, truncate=False)"
   ]
  },
  {
   "cell_type": "code",
   "execution_count": 34,
   "metadata": {},
   "outputs": [
    {
     "name": "stdout",
     "output_type": "stream",
     "text": [
      "Top 5 user recommendations for each movie:\n",
      "+-------+----------------------------------------------------------------------------------------+\n",
      "|movieId|recommendations                                                                         |\n",
      "+-------+----------------------------------------------------------------------------------------+\n",
      "|1      |[{53, 5.1670017}, {276, 5.158022}, {393, 5.0979676}, {543, 5.0946074}, {43, 4.952079}]  |\n",
      "|12     |[{276, 3.621855}, {96, 3.6182528}, {12, 3.5330048}, {119, 3.5316632}, {392, 3.5087423}] |\n",
      "|13     |[{393, 4.2046227}, {43, 4.0824556}, {543, 3.7520075}, {267, 3.750775}, {20, 3.6963384}] |\n",
      "|22     |[{53, 4.404162}, {276, 4.2605085}, {548, 4.2102847}, {452, 4.1991887}, {543, 4.1539626}]|\n",
      "|26     |[{43, 4.7795115}, {53, 4.521044}, {171, 4.476831}, {595, 4.387001}, {337, 4.3810954}]   |\n",
      "+-------+----------------------------------------------------------------------------------------+\n",
      "only showing top 5 rows\n",
      "\n"
     ]
    }
   ],
   "source": [
    "movie_recs = model.recommendForAllItems(5)\n",
    "print(\"Top 5 user recommendations for each movie:\")\n",
    "movie_recs.show(5, truncate=False)"
   ]
  },
  {
   "cell_type": "code",
   "execution_count": 35,
   "metadata": {},
   "outputs": [
    {
     "name": "stdout",
     "output_type": "stream",
     "text": [
      "Top 5 movie recommendations for user 1:\n",
      "+------+-----------------------------------------------------------------------------------------------+\n",
      "|userId|recommendations                                                                                |\n",
      "+------+-----------------------------------------------------------------------------------------------+\n",
      "|1     |[{25771, 5.853434}, {3266, 5.727755}, {58301, 5.726351}, {8477, 5.6169987}, {132333, 5.569378}]|\n",
      "+------+-----------------------------------------------------------------------------------------------+\n",
      "\n"
     ]
    }
   ],
   "source": [
    "# Recommend movies for a specific user\n",
    "user_id = 1 \n",
    "user_recs = model.recommendForUserSubset(spark.createDataFrame([(user_id,)]).toDF(\"userId\"), 5)\n",
    "print(f\"Top 5 movie recommendations for user {user_id}:\")\n",
    "user_recs.show(truncate=False)"
   ]
  },
  {
   "cell_type": "code",
   "execution_count": 36,
   "metadata": {},
   "outputs": [
    {
     "name": "stdout",
     "output_type": "stream",
     "text": [
      "Top 5 movie recommendations for user 1 with titles:\n",
      "+------+-------+-----------------------------------------------------+----------------+\n",
      "|userId|movieId|title                                                |predicted_rating|\n",
      "+------+-------+-----------------------------------------------------+----------------+\n",
      "|1     |25771  |Andalusian Dog, An (Chien andalou, Un) (1929)        |5.853434        |\n",
      "|1     |3266   |Man Bites Dog (C'est arrivé près de chez vous) (1992)|5.727755        |\n",
      "|1     |58301  |Funny Games U.S. (2007)                              |5.726351        |\n",
      "|1     |8477   |Jetée, La (1962)                                     |5.6169987       |\n",
      "|1     |132333 |Seve (2014)                                          |5.569378        |\n",
      "+------+-------+-----------------------------------------------------+----------------+\n",
      "\n"
     ]
    }
   ],
   "source": [
    "# Extract movieId and rating from the recommendations array\n",
    "user_recs_expanded = user_recs \\\n",
    "    .select(\"userId\", explode(\"recommendations\").alias(\"rec\")) \\\n",
    "    .select(\"userId\", col(\"rec.movieId\"), col(\"rec.rating\").alias(\"predicted_rating\"))\n",
    "\n",
    "# Join with movies_df to get movie titles\n",
    "recommendations_with_titles = user_recs_expanded \\\n",
    "    .join(movies_df, on=\"movieId\", how=\"inner\") \\\n",
    "    .select(\"userId\", \"movieId\", \"title\", \"predicted_rating\")\n",
    "\n",
    "# Show the recommendations with titles\n",
    "print(f\"Top 5 movie recommendations for user {user_id} with titles:\")\n",
    "recommendations_with_titles.show(5, truncate=False)"
   ]
  },
  {
   "cell_type": "code",
   "execution_count": 37,
   "metadata": {},
   "outputs": [],
   "source": [
    "spark.stop()"
   ]
  }
 ],
 "metadata": {
  "kernelspec": {
   "display_name": "Python 3",
   "language": "python",
   "name": "python3"
  },
  "language_info": {
   "codemirror_mode": {
    "name": "ipython",
    "version": 3
   },
   "file_extension": ".py",
   "mimetype": "text/x-python",
   "name": "python",
   "nbconvert_exporter": "python",
   "pygments_lexer": "ipython3",
   "version": "3.8.10"
  }
 },
 "nbformat": 4,
 "nbformat_minor": 2
}
